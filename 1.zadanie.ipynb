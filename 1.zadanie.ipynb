{
 "cells": [
  {
   "cell_type": "code",
   "execution_count": 1,
   "metadata": {},
   "outputs": [],
   "source": [
    "import numpy as np\n",
    "import pandas as pd\n",
    "pd.set_option(\"display.precision\", 4)\n",
    "\n",
    "from modules.helpers import parseMatrixRows, parseMatrixColumns, parseMatrixIndexes\n",
    "from modules.plot import highlightNotZero, plotSchema\n",
    "\n",
    "from modules.model import BarProps\n",
    "from modules.model import Point, Bar\n",
    "from modules.matrices import LoadMatrix, BarMatrices, modelMatrix\n",
    "from modules.internalForces import *"
   ]
  },
  {
   "cell_type": "markdown",
   "metadata": {},
   "source": [
    "# Vstupy"
   ]
  },
  {
   "cell_type": "code",
   "execution_count": 2,
   "metadata": {},
   "outputs": [
    {
     "name": "stdout",
     "output_type": "stream",
     "text": [
      "E = 33000000.0 kPa \n",
      "I = 0.00044999999999999993 m-4\n",
      "A = 0.06 m2\n"
     ]
    }
   ],
   "source": [
    "crossSection = {\"width\": 200, \"height\": 300}\n",
    "material = \"C30/37\"\n",
    "barProps = BarProps(material, crossSection)\n",
    "print(f'E = {barProps.E} kPa \\nI = {barProps.I} m-4\\nA = {barProps.A} m2')"
   ]
  },
  {
   "cell_type": "markdown",
   "metadata": {},
   "source": [
    "**Definovanie bodov**"
   ]
  },
  {
   "cell_type": "code",
   "execution_count": 3,
   "metadata": {},
   "outputs": [
    {
     "name": "stdout",
     "output_type": "stream",
     "text": [
      "p1 = Point(x=0, y=0, name='bod 1', codeNumbers=[0, 1, 2], dof=[0, 0, 0])\n",
      " p2 = Point(x=0, y=5, name='bod 2', codeNumbers=[3, 4, 5], dof=[1, 1, 1])\n",
      " p3 = Point(x=5, y=5, name='bod 3', codeNumbers=[6, 7, 8], dof=[1, 1, 1])\n",
      " p4 = Point(x=5, y=2, name='bod 4', codeNumbers=[9, 10, 11], dof=[0, 0, 1])\n"
     ]
    }
   ],
   "source": [
    "p1 = Point(0,0, \"bod 1\", [0,1,2])\n",
    "p2 = Point(0,5, \"bod 2\", [3,4,5])\n",
    "p3 = Point(5,5, \"bod 3\", [6,7,8])\n",
    "p4 = Point(5,2, \"bod 4\", [9,10,11])\n",
    "p1.stiff #votknutie v bode 1\n",
    "p4.hinge #klbova podpera v bode 4\n",
    "print(f'p1 = {p1}\\n p2 = {p2}\\n p3 = {p3}\\n p4 = {p4}')\n"
   ]
  },
  {
   "cell_type": "markdown",
   "metadata": {},
   "source": [
    "**Definovanie prútov**"
   ]
  },
  {
   "cell_type": "code",
   "execution_count": 4,
   "metadata": {},
   "outputs": [
    {
     "name": "stdout",
     "output_type": "stream",
     "text": [
      "bar12 = 5.0 m \n",
      "bar23 = 5.0 m\n",
      "bar34 = 3.0 m\n"
     ]
    }
   ],
   "source": [
    "bar12 = Bar(p1, p2)\n",
    "bar23 = Bar(p2, p3)\n",
    "bar34 = Bar(p3, p4)\n",
    "print(f'bar12 = {bar12.len} m \\nbar23 = {bar23.len} m\\nbar34 = {bar34.len} m')"
   ]
  },
  {
   "cell_type": "markdown",
   "metadata": {},
   "source": [
    "**Definovanie síl**"
   ]
  },
  {
   "cell_type": "code",
   "execution_count": 5,
   "metadata": {},
   "outputs": [],
   "source": [
    "F = 10 #kN\n",
    "Q = 5 #kN/m\n",
    "load_bar12 = Load(Q = Q, bar=bar12)\n",
    "load_bar23 = Load(F = F, F_position=0.5, bar=bar23)\n",
    "load_bar34 = Load(Q=0, F=0, bar=bar34)"
   ]
  },
  {
   "cell_type": "code",
   "execution_count": 6,
   "metadata": {},
   "outputs": [
    {
     "data": {
      "image/png": "[encoded data removed]",
      "text/plain": [
       "<Figure size 432x288 with 1 Axes>"
      ]
     },
     "metadata": {
      "needs_background": "light"
     },
     "output_type": "display_data"
    }
   ],
   "source": [
    "plotSchema([p1,p2,p3,p4])"
   ]
  },
  {
   "cell_type": "code",
   "execution_count": 7,
   "metadata": {},
   "outputs": [],
   "source": [
    "def barSolution(bar, barProps, load):\n",
    "    # print bar geometry\n",
    "    [lx, ly] = bar.l_xy\n",
    "    alfa = bar.angle\n",
    "    print(f'bar properties \\nalfa = {alfa} deg')\n",
    "    print(f'lx = {lx}\\nly = {ly}')\n",
    "\n",
    "    # print stiffness matrix\n",
    "    bar_matrices = BarMatrices(barProps, bar)\n",
    "    A0 = bar_matrices.rotation\n",
    "    B0 = bar_matrices.transmission\n",
    "    k = bar_matrices.gss_stiffness\n",
    "    k = parseMatrixIndexes(k, bar.codeNumbers)\n",
    "    print('------------------------')\n",
    "    print(\n",
    "        f'stiffness matrix \\n{k}\\n rotation matrix \\n{A0}\\n transmission matrix \\n{B0}')\n",
    "\n",
    "    # calculate primary internal forces\n",
    "    IntF = InternalForces_primary(load, bar)\n",
    "\n",
    "    # print load vector\n",
    "    FA_l = LoadMatrix.lss(0, IntF.Va, IntF.Ma)\n",
    "    FB_l = LoadMatrix.lss(0, IntF.Vb, IntF.Mb)\n",
    "    FA_g = LoadMatrix.gss(FA_l, A0.T)\n",
    "    FB_g = LoadMatrix.gss(FB_l, A0.T)\n",
    "\n",
    "    F = LoadMatrix.super(FA_g, FB_g)\n",
    "    F = parseMatrixRows(F, bar.codeNumbers)\n",
    "    print('------------------------')\n",
    "    print(f'load vector \\n{F}')\n",
    "\n",
    "    toReturn = {\n",
    "        \"bar\" : bar,\n",
    "        \"barProps\": barProps,\n",
    "        \"lx\" : lx,\n",
    "        \"ly\" : ly,\n",
    "        \"alfa\" : alfa,\n",
    "        \"A0\" : A0,\n",
    "        \"B0\" : B0,\n",
    "        \"k\" : k,\n",
    "        \"F\" : F,\n",
    "        \"FA_g\" : FA_g,\n",
    "        \"FB_g\" : FB_g,\n",
    "    }\n",
    "    return toReturn\n"
   ]
  },
  {
   "cell_type": "markdown",
   "metadata": {},
   "source": [
    "**Riešenie na prúte 1-2**"
   ]
  },
  {
   "cell_type": "code",
   "execution_count": 8,
   "metadata": {},
   "outputs": [
    {
     "name": "stdout",
     "output_type": "stream",
     "text": [
      "bar properties \n",
      "alfa = -90.0 deg\n",
      "lx = 0\n",
      "ly = -5\n",
      "------------------------\n",
      "stiffness matrix \n",
      "            0           1           2           3           4           5\n",
      "0  1.4256e+03 -2.4161e-11  3.5640e+03 -1.4256e+03  2.4161e-11  3.5640e+03\n",
      "1 -2.4161e-11  3.9600e+05  2.1823e-13  2.4161e-11 -3.9600e+05 -1.2102e-10\n",
      "2  3.5640e+03  2.1823e-13  1.1880e+04 -3.5640e+03 -2.1823e-13  5.9400e+03\n",
      "3 -1.4256e+03  2.4161e-11 -3.5640e+03  1.4256e+03 -2.4161e-11 -3.5640e+03\n",
      "4  2.4161e-11 -3.9600e+05 -2.1823e-13 -2.4161e-11  3.9600e+05  1.2102e-10\n",
      "5  3.5640e+03 -1.2102e-10  5.9400e+03 -3.5640e+03  1.2102e-10  1.1880e+04\n",
      " rotation matrix \n",
      "            0           1  2\n",
      "0  6.1232e-17 -1.0000e+00  0\n",
      "1  1.0000e+00  6.1232e-17  0\n",
      "2  0.0000e+00  0.0000e+00  1\n",
      " transmission matrix \n",
      "   0  1  2\n",
      "0 -1  0  0\n",
      "1  0 -1  0\n",
      "2  5  0 -1\n",
      "------------------------\n",
      "load vector \n",
      "            0\n",
      "0 -1.2500e+01\n",
      "1 -7.6540e-16\n",
      "2 -1.0417e+01\n",
      "3 -1.2500e+01\n",
      "4 -7.6540e-16\n",
      "5  1.0417e+01\n"
     ]
    }
   ],
   "source": [
    "bar12_Solution = barSolution(bar12, barProps, load_bar12)"
   ]
  },
  {
   "cell_type": "markdown",
   "metadata": {},
   "source": [
    "**Riešenie na prúte 2-3**"
   ]
  },
  {
   "cell_type": "code",
   "execution_count": 9,
   "metadata": {},
   "outputs": [
    {
     "name": "stdout",
     "output_type": "stream",
     "text": [
      "bar properties \n",
      "alfa = 0.0 deg\n",
      "lx = 5\n",
      "ly = 0\n",
      "------------------------\n",
      "stiffness matrix \n",
      "          3       4        5         6       7        8\n",
      "3  396000.0     0.0      0.0 -396000.0     0.0      0.0\n",
      "4       0.0  1425.6   3564.0       0.0 -1425.6   3564.0\n",
      "5       0.0  3564.0  11880.0       0.0 -3564.0   5940.0\n",
      "6 -396000.0     0.0      0.0  396000.0     0.0      0.0\n",
      "7       0.0 -1425.6  -3564.0       0.0  1425.6  -3564.0\n",
      "8       0.0  3564.0   5940.0       0.0 -3564.0  11880.0\n",
      " rotation matrix \n",
      "     0    1  2\n",
      "0  1.0  0.0  0\n",
      "1 -0.0  1.0  0\n",
      "2  0.0  0.0  1\n",
      " transmission matrix \n",
      "   0  1  2\n",
      "0 -1  0  0\n",
      "1  0 -1  0\n",
      "2  0  5 -1\n",
      "------------------------\n",
      "load vector \n",
      "      0\n",
      "3  0.00\n",
      "4 -5.00\n",
      "5 -6.25\n",
      "6  0.00\n",
      "7 -5.00\n",
      "8  6.25\n"
     ]
    }
   ],
   "source": [
    "bar23_Solution = barSolution(bar23,barProps, load_bar23)"
   ]
  },
  {
   "cell_type": "markdown",
   "metadata": {},
   "source": [
    "**Riešenie na prúte 3-4**"
   ]
  },
  {
   "cell_type": "code",
   "execution_count": 10,
   "metadata": {},
   "outputs": [
    {
     "name": "stdout",
     "output_type": "stream",
     "text": [
      "bar properties \n",
      "alfa = 90.0 deg\n",
      "lx = 0\n",
      "ly = 3\n",
      "------------------------\n",
      "stiffness matrix \n",
      "            6           7           8           9           10          11\n",
      "6   6.6000e+03  4.0009e-11 -9.9000e+03 -6.6000e+03 -4.0009e-11 -9.9000e+03\n",
      "7   4.0009e-11  6.6000e+05  6.0620e-13 -4.0009e-11 -6.6000e+05 -1.2063e-10\n",
      "8  -9.9000e+03  6.0620e-13  1.9800e+04  9.9000e+03 -6.0620e-13  9.9000e+03\n",
      "9  -6.6000e+03 -4.0009e-11  9.9000e+03  6.6000e+03  4.0009e-11  9.9000e+03\n",
      "10 -4.0009e-11 -6.6000e+05 -6.0620e-13  4.0009e-11  6.6000e+05  1.2063e-10\n",
      "11 -9.9000e+03 -1.2063e-10  9.9000e+03  9.9000e+03  1.2063e-10  1.9800e+04\n",
      " rotation matrix \n",
      "            0           1  2\n",
      "0  6.1232e-17  1.0000e+00  0\n",
      "1 -1.0000e+00  6.1232e-17  0\n",
      "2  0.0000e+00  0.0000e+00  1\n",
      " transmission matrix \n",
      "   0  1  2\n",
      "0 -1  0  0\n",
      "1  0 -1  0\n",
      "2 -3  0 -1\n",
      "------------------------\n",
      "load vector \n",
      "      0\n",
      "6   0.0\n",
      "7   0.0\n",
      "8   0.0\n",
      "9   0.0\n",
      "10  0.0\n",
      "11  0.0\n"
     ]
    }
   ],
   "source": [
    "bar34_Solution = barSolution(bar34, barProps, load_bar34)"
   ]
  },
  {
   "cell_type": "code",
   "execution_count": 11,
   "metadata": {},
   "outputs": [],
   "source": [
    "k1 = bar12_Solution['k']\n",
    "k2 = bar23_Solution['k']\n",
    "k3 = bar34_Solution['k']\n"
   ]
  },
  {
   "cell_type": "code",
   "execution_count": 12,
   "metadata": {},
   "outputs": [
    {
     "data": {
      "text/html": [
       "<style  type=\"text/css\" >\n",
       "#T_6ea5c_row0_col0,#T_6ea5c_row0_col2,#T_6ea5c_row0_col5,#T_6ea5c_row1_col1,#T_6ea5c_row2_col0,#T_6ea5c_row2_col2,#T_6ea5c_row2_col5,#T_6ea5c_row3_col3,#T_6ea5c_row4_col4,#T_6ea5c_row4_col5,#T_6ea5c_row4_col8,#T_6ea5c_row5_col0,#T_6ea5c_row5_col2,#T_6ea5c_row5_col4,#T_6ea5c_row5_col5,#T_6ea5c_row5_col8,#T_6ea5c_row6_col6,#T_6ea5c_row7_col7,#T_6ea5c_row8_col4,#T_6ea5c_row8_col5,#T_6ea5c_row8_col8,#T_6ea5c_row8_col9,#T_6ea5c_row8_col11,#T_6ea5c_row9_col8,#T_6ea5c_row9_col9,#T_6ea5c_row9_col11,#T_6ea5c_row10_col10,#T_6ea5c_row11_col8,#T_6ea5c_row11_col9,#T_6ea5c_row11_col11{\n",
       "            background:  #E1FFD5;\n",
       "        }#T_6ea5c_row0_col1,#T_6ea5c_row0_col4,#T_6ea5c_row0_col6,#T_6ea5c_row0_col7,#T_6ea5c_row0_col8,#T_6ea5c_row0_col9,#T_6ea5c_row0_col10,#T_6ea5c_row0_col11,#T_6ea5c_row1_col0,#T_6ea5c_row1_col2,#T_6ea5c_row1_col3,#T_6ea5c_row1_col5,#T_6ea5c_row1_col6,#T_6ea5c_row1_col7,#T_6ea5c_row1_col8,#T_6ea5c_row1_col9,#T_6ea5c_row1_col10,#T_6ea5c_row1_col11,#T_6ea5c_row2_col1,#T_6ea5c_row2_col4,#T_6ea5c_row2_col6,#T_6ea5c_row2_col7,#T_6ea5c_row2_col8,#T_6ea5c_row2_col9,#T_6ea5c_row2_col10,#T_6ea5c_row2_col11,#T_6ea5c_row3_col1,#T_6ea5c_row3_col4,#T_6ea5c_row3_col7,#T_6ea5c_row3_col8,#T_6ea5c_row3_col9,#T_6ea5c_row3_col10,#T_6ea5c_row3_col11,#T_6ea5c_row4_col0,#T_6ea5c_row4_col2,#T_6ea5c_row4_col3,#T_6ea5c_row4_col6,#T_6ea5c_row4_col9,#T_6ea5c_row4_col10,#T_6ea5c_row4_col11,#T_6ea5c_row5_col1,#T_6ea5c_row5_col6,#T_6ea5c_row5_col9,#T_6ea5c_row5_col10,#T_6ea5c_row5_col11,#T_6ea5c_row6_col0,#T_6ea5c_row6_col1,#T_6ea5c_row6_col2,#T_6ea5c_row6_col4,#T_6ea5c_row6_col5,#T_6ea5c_row6_col7,#T_6ea5c_row6_col10,#T_6ea5c_row7_col0,#T_6ea5c_row7_col1,#T_6ea5c_row7_col2,#T_6ea5c_row7_col3,#T_6ea5c_row7_col6,#T_6ea5c_row7_col9,#T_6ea5c_row7_col11,#T_6ea5c_row8_col0,#T_6ea5c_row8_col1,#T_6ea5c_row8_col2,#T_6ea5c_row8_col3,#T_6ea5c_row8_col10,#T_6ea5c_row9_col0,#T_6ea5c_row9_col1,#T_6ea5c_row9_col2,#T_6ea5c_row9_col3,#T_6ea5c_row9_col4,#T_6ea5c_row9_col5,#T_6ea5c_row9_col7,#T_6ea5c_row9_col10,#T_6ea5c_row10_col0,#T_6ea5c_row10_col1,#T_6ea5c_row10_col2,#T_6ea5c_row10_col3,#T_6ea5c_row10_col4,#T_6ea5c_row10_col5,#T_6ea5c_row10_col6,#T_6ea5c_row10_col8,#T_6ea5c_row10_col9,#T_6ea5c_row10_col11,#T_6ea5c_row11_col0,#T_6ea5c_row11_col1,#T_6ea5c_row11_col2,#T_6ea5c_row11_col3,#T_6ea5c_row11_col4,#T_6ea5c_row11_col5,#T_6ea5c_row11_col7,#T_6ea5c_row11_col10{\n",
       "            background:  #f2f2f2;\n",
       "        }#T_6ea5c_row0_col3,#T_6ea5c_row1_col4,#T_6ea5c_row2_col3,#T_6ea5c_row3_col0,#T_6ea5c_row3_col2,#T_6ea5c_row3_col5,#T_6ea5c_row3_col6,#T_6ea5c_row4_col1,#T_6ea5c_row4_col7,#T_6ea5c_row5_col3,#T_6ea5c_row5_col7,#T_6ea5c_row6_col3,#T_6ea5c_row6_col8,#T_6ea5c_row6_col9,#T_6ea5c_row6_col11,#T_6ea5c_row7_col4,#T_6ea5c_row7_col5,#T_6ea5c_row7_col8,#T_6ea5c_row7_col10,#T_6ea5c_row8_col6,#T_6ea5c_row8_col7,#T_6ea5c_row9_col6,#T_6ea5c_row10_col7,#T_6ea5c_row11_col6{\n",
       "            background:  #FFDCD5;\n",
       "        }</style><table id=\"T_6ea5c_\" ><thead>    <tr>        <th class=\"blank level0\" ></th>        <th class=\"col_heading level0 col0\" >0</th>        <th class=\"col_heading level0 col1\" >1</th>        <th class=\"col_heading level0 col2\" >2</th>        <th class=\"col_heading level0 col3\" >3</th>        <th class=\"col_heading level0 col4\" >4</th>        <th class=\"col_heading level0 col5\" >5</th>        <th class=\"col_heading level0 col6\" >6</th>        <th class=\"col_heading level0 col7\" >7</th>        <th class=\"col_heading level0 col8\" >8</th>        <th class=\"col_heading level0 col9\" >9</th>        <th class=\"col_heading level0 col10\" >10</th>        <th class=\"col_heading level0 col11\" >11</th>    </tr></thead><tbody>\n",
       "                <tr>\n",
       "                        <th id=\"T_6ea5c_level0_row0\" class=\"row_heading level0 row0\" >0</th>\n",
       "                        <td id=\"T_6ea5c_row0_col0\" class=\"data row0 col0\" >1.43e+03</td>\n",
       "                        <td id=\"T_6ea5c_row0_col1\" class=\"data row0 col1\" >-2.42e-11</td>\n",
       "                        <td id=\"T_6ea5c_row0_col2\" class=\"data row0 col2\" >3.56e+03</td>\n",
       "                        <td id=\"T_6ea5c_row0_col3\" class=\"data row0 col3\" >-1.43e+03</td>\n",
       "                        <td id=\"T_6ea5c_row0_col4\" class=\"data row0 col4\" >2.42e-11</td>\n",
       "                        <td id=\"T_6ea5c_row0_col5\" class=\"data row0 col5\" >3.56e+03</td>\n",
       "                        <td id=\"T_6ea5c_row0_col6\" class=\"data row0 col6\" >0.00e+00</td>\n",
       "                        <td id=\"T_6ea5c_row0_col7\" class=\"data row0 col7\" >0.00e+00</td>\n",
       "                        <td id=\"T_6ea5c_row0_col8\" class=\"data row0 col8\" >0.00e+00</td>\n",
       "                        <td id=\"T_6ea5c_row0_col9\" class=\"data row0 col9\" >0.00e+00</td>\n",
       "                        <td id=\"T_6ea5c_row0_col10\" class=\"data row0 col10\" >0.00e+00</td>\n",
       "                        <td id=\"T_6ea5c_row0_col11\" class=\"data row0 col11\" >0.00e+00</td>\n",
       "            </tr>\n",
       "            <tr>\n",
       "                        <th id=\"T_6ea5c_level0_row1\" class=\"row_heading level0 row1\" >1</th>\n",
       "                        <td id=\"T_6ea5c_row1_col0\" class=\"data row1 col0\" >-2.42e-11</td>\n",
       "                        <td id=\"T_6ea5c_row1_col1\" class=\"data row1 col1\" >3.96e+05</td>\n",
       "                        <td id=\"T_6ea5c_row1_col2\" class=\"data row1 col2\" >2.18e-13</td>\n",
       "                        <td id=\"T_6ea5c_row1_col3\" class=\"data row1 col3\" >2.42e-11</td>\n",
       "                        <td id=\"T_6ea5c_row1_col4\" class=\"data row1 col4\" >-3.96e+05</td>\n",
       "                        <td id=\"T_6ea5c_row1_col5\" class=\"data row1 col5\" >-1.21e-10</td>\n",
       "                        <td id=\"T_6ea5c_row1_col6\" class=\"data row1 col6\" >0.00e+00</td>\n",
       "                        <td id=\"T_6ea5c_row1_col7\" class=\"data row1 col7\" >0.00e+00</td>\n",
       "                        <td id=\"T_6ea5c_row1_col8\" class=\"data row1 col8\" >0.00e+00</td>\n",
       "                        <td id=\"T_6ea5c_row1_col9\" class=\"data row1 col9\" >0.00e+00</td>\n",
       "                        <td id=\"T_6ea5c_row1_col10\" class=\"data row1 col10\" >0.00e+00</td>\n",
       "                        <td id=\"T_6ea5c_row1_col11\" class=\"data row1 col11\" >0.00e+00</td>\n",
       "            </tr>\n",
       "            <tr>\n",
       "                        <th id=\"T_6ea5c_level0_row2\" class=\"row_heading level0 row2\" >2</th>\n",
       "                        <td id=\"T_6ea5c_row2_col0\" class=\"data row2 col0\" >3.56e+03</td>\n",
       "                        <td id=\"T_6ea5c_row2_col1\" class=\"data row2 col1\" >2.18e-13</td>\n",
       "                        <td id=\"T_6ea5c_row2_col2\" class=\"data row2 col2\" >1.19e+04</td>\n",
       "                        <td id=\"T_6ea5c_row2_col3\" class=\"data row2 col3\" >-3.56e+03</td>\n",
       "                        <td id=\"T_6ea5c_row2_col4\" class=\"data row2 col4\" >-2.18e-13</td>\n",
       "                        <td id=\"T_6ea5c_row2_col5\" class=\"data row2 col5\" >5.94e+03</td>\n",
       "                        <td id=\"T_6ea5c_row2_col6\" class=\"data row2 col6\" >0.00e+00</td>\n",
       "                        <td id=\"T_6ea5c_row2_col7\" class=\"data row2 col7\" >0.00e+00</td>\n",
       "                        <td id=\"T_6ea5c_row2_col8\" class=\"data row2 col8\" >0.00e+00</td>\n",
       "                        <td id=\"T_6ea5c_row2_col9\" class=\"data row2 col9\" >0.00e+00</td>\n",
       "                        <td id=\"T_6ea5c_row2_col10\" class=\"data row2 col10\" >0.00e+00</td>\n",
       "                        <td id=\"T_6ea5c_row2_col11\" class=\"data row2 col11\" >0.00e+00</td>\n",
       "            </tr>\n",
       "            <tr>\n",
       "                        <th id=\"T_6ea5c_level0_row3\" class=\"row_heading level0 row3\" >3</th>\n",
       "                        <td id=\"T_6ea5c_row3_col0\" class=\"data row3 col0\" >-1.43e+03</td>\n",
       "                        <td id=\"T_6ea5c_row3_col1\" class=\"data row3 col1\" >2.42e-11</td>\n",
       "                        <td id=\"T_6ea5c_row3_col2\" class=\"data row3 col2\" >-3.56e+03</td>\n",
       "                        <td id=\"T_6ea5c_row3_col3\" class=\"data row3 col3\" >3.97e+05</td>\n",
       "                        <td id=\"T_6ea5c_row3_col4\" class=\"data row3 col4\" >-2.42e-11</td>\n",
       "                        <td id=\"T_6ea5c_row3_col5\" class=\"data row3 col5\" >-3.56e+03</td>\n",
       "                        <td id=\"T_6ea5c_row3_col6\" class=\"data row3 col6\" >-3.96e+05</td>\n",
       "                        <td id=\"T_6ea5c_row3_col7\" class=\"data row3 col7\" >0.00e+00</td>\n",
       "                        <td id=\"T_6ea5c_row3_col8\" class=\"data row3 col8\" >0.00e+00</td>\n",
       "                        <td id=\"T_6ea5c_row3_col9\" class=\"data row3 col9\" >0.00e+00</td>\n",
       "                        <td id=\"T_6ea5c_row3_col10\" class=\"data row3 col10\" >0.00e+00</td>\n",
       "                        <td id=\"T_6ea5c_row3_col11\" class=\"data row3 col11\" >0.00e+00</td>\n",
       "            </tr>\n",
       "            <tr>\n",
       "                        <th id=\"T_6ea5c_level0_row4\" class=\"row_heading level0 row4\" >4</th>\n",
       "                        <td id=\"T_6ea5c_row4_col0\" class=\"data row4 col0\" >2.42e-11</td>\n",
       "                        <td id=\"T_6ea5c_row4_col1\" class=\"data row4 col1\" >-3.96e+05</td>\n",
       "                        <td id=\"T_6ea5c_row4_col2\" class=\"data row4 col2\" >-2.18e-13</td>\n",
       "                        <td id=\"T_6ea5c_row4_col3\" class=\"data row4 col3\" >-2.42e-11</td>\n",
       "                        <td id=\"T_6ea5c_row4_col4\" class=\"data row4 col4\" >3.97e+05</td>\n",
       "                        <td id=\"T_6ea5c_row4_col5\" class=\"data row4 col5\" >3.56e+03</td>\n",
       "                        <td id=\"T_6ea5c_row4_col6\" class=\"data row4 col6\" >0.00e+00</td>\n",
       "                        <td id=\"T_6ea5c_row4_col7\" class=\"data row4 col7\" >-1.43e+03</td>\n",
       "                        <td id=\"T_6ea5c_row4_col8\" class=\"data row4 col8\" >3.56e+03</td>\n",
       "                        <td id=\"T_6ea5c_row4_col9\" class=\"data row4 col9\" >0.00e+00</td>\n",
       "                        <td id=\"T_6ea5c_row4_col10\" class=\"data row4 col10\" >0.00e+00</td>\n",
       "                        <td id=\"T_6ea5c_row4_col11\" class=\"data row4 col11\" >0.00e+00</td>\n",
       "            </tr>\n",
       "            <tr>\n",
       "                        <th id=\"T_6ea5c_level0_row5\" class=\"row_heading level0 row5\" >5</th>\n",
       "                        <td id=\"T_6ea5c_row5_col0\" class=\"data row5 col0\" >3.56e+03</td>\n",
       "                        <td id=\"T_6ea5c_row5_col1\" class=\"data row5 col1\" >-1.21e-10</td>\n",
       "                        <td id=\"T_6ea5c_row5_col2\" class=\"data row5 col2\" >5.94e+03</td>\n",
       "                        <td id=\"T_6ea5c_row5_col3\" class=\"data row5 col3\" >-3.56e+03</td>\n",
       "                        <td id=\"T_6ea5c_row5_col4\" class=\"data row5 col4\" >3.56e+03</td>\n",
       "                        <td id=\"T_6ea5c_row5_col5\" class=\"data row5 col5\" >2.38e+04</td>\n",
       "                        <td id=\"T_6ea5c_row5_col6\" class=\"data row5 col6\" >0.00e+00</td>\n",
       "                        <td id=\"T_6ea5c_row5_col7\" class=\"data row5 col7\" >-3.56e+03</td>\n",
       "                        <td id=\"T_6ea5c_row5_col8\" class=\"data row5 col8\" >5.94e+03</td>\n",
       "                        <td id=\"T_6ea5c_row5_col9\" class=\"data row5 col9\" >0.00e+00</td>\n",
       "                        <td id=\"T_6ea5c_row5_col10\" class=\"data row5 col10\" >0.00e+00</td>\n",
       "                        <td id=\"T_6ea5c_row5_col11\" class=\"data row5 col11\" >0.00e+00</td>\n",
       "            </tr>\n",
       "            <tr>\n",
       "                        <th id=\"T_6ea5c_level0_row6\" class=\"row_heading level0 row6\" >6</th>\n",
       "                        <td id=\"T_6ea5c_row6_col0\" class=\"data row6 col0\" >0.00e+00</td>\n",
       "                        <td id=\"T_6ea5c_row6_col1\" class=\"data row6 col1\" >0.00e+00</td>\n",
       "                        <td id=\"T_6ea5c_row6_col2\" class=\"data row6 col2\" >0.00e+00</td>\n",
       "                        <td id=\"T_6ea5c_row6_col3\" class=\"data row6 col3\" >-3.96e+05</td>\n",
       "                        <td id=\"T_6ea5c_row6_col4\" class=\"data row6 col4\" >0.00e+00</td>\n",
       "                        <td id=\"T_6ea5c_row6_col5\" class=\"data row6 col5\" >0.00e+00</td>\n",
       "                        <td id=\"T_6ea5c_row6_col6\" class=\"data row6 col6\" >4.03e+05</td>\n",
       "                        <td id=\"T_6ea5c_row6_col7\" class=\"data row6 col7\" >4.00e-11</td>\n",
       "                        <td id=\"T_6ea5c_row6_col8\" class=\"data row6 col8\" >-9.90e+03</td>\n",
       "                        <td id=\"T_6ea5c_row6_col9\" class=\"data row6 col9\" >-6.60e+03</td>\n",
       "                        <td id=\"T_6ea5c_row6_col10\" class=\"data row6 col10\" >-4.00e-11</td>\n",
       "                        <td id=\"T_6ea5c_row6_col11\" class=\"data row6 col11\" >-9.90e+03</td>\n",
       "            </tr>\n",
       "            <tr>\n",
       "                        <th id=\"T_6ea5c_level0_row7\" class=\"row_heading level0 row7\" >7</th>\n",
       "                        <td id=\"T_6ea5c_row7_col0\" class=\"data row7 col0\" >0.00e+00</td>\n",
       "                        <td id=\"T_6ea5c_row7_col1\" class=\"data row7 col1\" >0.00e+00</td>\n",
       "                        <td id=\"T_6ea5c_row7_col2\" class=\"data row7 col2\" >0.00e+00</td>\n",
       "                        <td id=\"T_6ea5c_row7_col3\" class=\"data row7 col3\" >0.00e+00</td>\n",
       "                        <td id=\"T_6ea5c_row7_col4\" class=\"data row7 col4\" >-1.43e+03</td>\n",
       "                        <td id=\"T_6ea5c_row7_col5\" class=\"data row7 col5\" >-3.56e+03</td>\n",
       "                        <td id=\"T_6ea5c_row7_col6\" class=\"data row7 col6\" >4.00e-11</td>\n",
       "                        <td id=\"T_6ea5c_row7_col7\" class=\"data row7 col7\" >6.61e+05</td>\n",
       "                        <td id=\"T_6ea5c_row7_col8\" class=\"data row7 col8\" >-3.56e+03</td>\n",
       "                        <td id=\"T_6ea5c_row7_col9\" class=\"data row7 col9\" >-4.00e-11</td>\n",
       "                        <td id=\"T_6ea5c_row7_col10\" class=\"data row7 col10\" >-6.60e+05</td>\n",
       "                        <td id=\"T_6ea5c_row7_col11\" class=\"data row7 col11\" >-1.21e-10</td>\n",
       "            </tr>\n",
       "            <tr>\n",
       "                        <th id=\"T_6ea5c_level0_row8\" class=\"row_heading level0 row8\" >8</th>\n",
       "                        <td id=\"T_6ea5c_row8_col0\" class=\"data row8 col0\" >0.00e+00</td>\n",
       "                        <td id=\"T_6ea5c_row8_col1\" class=\"data row8 col1\" >0.00e+00</td>\n",
       "                        <td id=\"T_6ea5c_row8_col2\" class=\"data row8 col2\" >0.00e+00</td>\n",
       "                        <td id=\"T_6ea5c_row8_col3\" class=\"data row8 col3\" >0.00e+00</td>\n",
       "                        <td id=\"T_6ea5c_row8_col4\" class=\"data row8 col4\" >3.56e+03</td>\n",
       "                        <td id=\"T_6ea5c_row8_col5\" class=\"data row8 col5\" >5.94e+03</td>\n",
       "                        <td id=\"T_6ea5c_row8_col6\" class=\"data row8 col6\" >-9.90e+03</td>\n",
       "                        <td id=\"T_6ea5c_row8_col7\" class=\"data row8 col7\" >-3.56e+03</td>\n",
       "                        <td id=\"T_6ea5c_row8_col8\" class=\"data row8 col8\" >3.17e+04</td>\n",
       "                        <td id=\"T_6ea5c_row8_col9\" class=\"data row8 col9\" >9.90e+03</td>\n",
       "                        <td id=\"T_6ea5c_row8_col10\" class=\"data row8 col10\" >-6.06e-13</td>\n",
       "                        <td id=\"T_6ea5c_row8_col11\" class=\"data row8 col11\" >9.90e+03</td>\n",
       "            </tr>\n",
       "            <tr>\n",
       "                        <th id=\"T_6ea5c_level0_row9\" class=\"row_heading level0 row9\" >9</th>\n",
       "                        <td id=\"T_6ea5c_row9_col0\" class=\"data row9 col0\" >0.00e+00</td>\n",
       "                        <td id=\"T_6ea5c_row9_col1\" class=\"data row9 col1\" >0.00e+00</td>\n",
       "                        <td id=\"T_6ea5c_row9_col2\" class=\"data row9 col2\" >0.00e+00</td>\n",
       "                        <td id=\"T_6ea5c_row9_col3\" class=\"data row9 col3\" >0.00e+00</td>\n",
       "                        <td id=\"T_6ea5c_row9_col4\" class=\"data row9 col4\" >0.00e+00</td>\n",
       "                        <td id=\"T_6ea5c_row9_col5\" class=\"data row9 col5\" >0.00e+00</td>\n",
       "                        <td id=\"T_6ea5c_row9_col6\" class=\"data row9 col6\" >-6.60e+03</td>\n",
       "                        <td id=\"T_6ea5c_row9_col7\" class=\"data row9 col7\" >-4.00e-11</td>\n",
       "                        <td id=\"T_6ea5c_row9_col8\" class=\"data row9 col8\" >9.90e+03</td>\n",
       "                        <td id=\"T_6ea5c_row9_col9\" class=\"data row9 col9\" >6.60e+03</td>\n",
       "                        <td id=\"T_6ea5c_row9_col10\" class=\"data row9 col10\" >4.00e-11</td>\n",
       "                        <td id=\"T_6ea5c_row9_col11\" class=\"data row9 col11\" >9.90e+03</td>\n",
       "            </tr>\n",
       "            <tr>\n",
       "                        <th id=\"T_6ea5c_level0_row10\" class=\"row_heading level0 row10\" >10</th>\n",
       "                        <td id=\"T_6ea5c_row10_col0\" class=\"data row10 col0\" >0.00e+00</td>\n",
       "                        <td id=\"T_6ea5c_row10_col1\" class=\"data row10 col1\" >0.00e+00</td>\n",
       "                        <td id=\"T_6ea5c_row10_col2\" class=\"data row10 col2\" >0.00e+00</td>\n",
       "                        <td id=\"T_6ea5c_row10_col3\" class=\"data row10 col3\" >0.00e+00</td>\n",
       "                        <td id=\"T_6ea5c_row10_col4\" class=\"data row10 col4\" >0.00e+00</td>\n",
       "                        <td id=\"T_6ea5c_row10_col5\" class=\"data row10 col5\" >0.00e+00</td>\n",
       "                        <td id=\"T_6ea5c_row10_col6\" class=\"data row10 col6\" >-4.00e-11</td>\n",
       "                        <td id=\"T_6ea5c_row10_col7\" class=\"data row10 col7\" >-6.60e+05</td>\n",
       "                        <td id=\"T_6ea5c_row10_col8\" class=\"data row10 col8\" >-6.06e-13</td>\n",
       "                        <td id=\"T_6ea5c_row10_col9\" class=\"data row10 col9\" >4.00e-11</td>\n",
       "                        <td id=\"T_6ea5c_row10_col10\" class=\"data row10 col10\" >6.60e+05</td>\n",
       "                        <td id=\"T_6ea5c_row10_col11\" class=\"data row10 col11\" >1.21e-10</td>\n",
       "            </tr>\n",
       "            <tr>\n",
       "                        <th id=\"T_6ea5c_level0_row11\" class=\"row_heading level0 row11\" >11</th>\n",
       "                        <td id=\"T_6ea5c_row11_col0\" class=\"data row11 col0\" >0.00e+00</td>\n",
       "                        <td id=\"T_6ea5c_row11_col1\" class=\"data row11 col1\" >0.00e+00</td>\n",
       "                        <td id=\"T_6ea5c_row11_col2\" class=\"data row11 col2\" >0.00e+00</td>\n",
       "                        <td id=\"T_6ea5c_row11_col3\" class=\"data row11 col3\" >0.00e+00</td>\n",
       "                        <td id=\"T_6ea5c_row11_col4\" class=\"data row11 col4\" >0.00e+00</td>\n",
       "                        <td id=\"T_6ea5c_row11_col5\" class=\"data row11 col5\" >0.00e+00</td>\n",
       "                        <td id=\"T_6ea5c_row11_col6\" class=\"data row11 col6\" >-9.90e+03</td>\n",
       "                        <td id=\"T_6ea5c_row11_col7\" class=\"data row11 col7\" >-1.21e-10</td>\n",
       "                        <td id=\"T_6ea5c_row11_col8\" class=\"data row11 col8\" >9.90e+03</td>\n",
       "                        <td id=\"T_6ea5c_row11_col9\" class=\"data row11 col9\" >9.90e+03</td>\n",
       "                        <td id=\"T_6ea5c_row11_col10\" class=\"data row11 col10\" >1.21e-10</td>\n",
       "                        <td id=\"T_6ea5c_row11_col11\" class=\"data row11 col11\" >1.98e+04</td>\n",
       "            </tr>\n",
       "    </tbody></table>"
      ],
      "text/plain": [
       "<pandas.io.formats.style.Styler at 0x226b50f3d60>"
      ]
     },
     "execution_count": 12,
     "metadata": {},
     "output_type": "execute_result"
    }
   ],
   "source": [
    "modelMatrix = modelMatrix([k1,k2,k3])\n",
    "modelMatrix.style\\\n",
    ".format('{:.2e}')\\\n",
    ".applymap(highlightNotZero)"
   ]
  },
  {
   "cell_type": "code",
   "execution_count": 13,
   "metadata": {},
   "outputs": [],
   "source": [
    "def boundaryConditionsVector(points: list) -> list:\n",
    "    dofList=[]\n",
    "    for point in points:\n",
    "        dofList.append(point.dof)\n",
    "    return pd.DataFrame(np.array(dofList).flatten())\n",
    "    \n",
    "def boundaryConditionsFilter(bc_vector, cond):\n",
    "    bc = np.array(bc_vector).flatten()\n",
    "    df = pd.DataFrame(bc)\n",
    "    return df[df[0]==cond].index.values.astype(int)\n",
    "\n",
    "def loadVector(F1,F2,F3):\n",
    "    x = F1.add(F2,fill_value=0)\n",
    "    return x.add(F3,fill_value=0)\n"
   ]
  },
  {
   "cell_type": "code",
   "execution_count": 14,
   "metadata": {},
   "outputs": [],
   "source": [
    "F1 = bar12_Solution['F']\n",
    "F2 = bar23_Solution['F']\n",
    "F3 = bar34_Solution['F']\n"
   ]
  },
  {
   "cell_type": "markdown",
   "metadata": {},
   "source": [
    "**Vektor zaťaženia**"
   ]
  },
  {
   "cell_type": "code",
   "execution_count": 15,
   "metadata": {},
   "outputs": [
    {
     "data": {
      "text/html": [
       "<div>\n",
       "<style scoped>\n",
       "    .dataframe tbody tr th:only-of-type {\n",
       "        vertical-align: middle;\n",
       "    }\n",
       "\n",
       "    .dataframe tbody tr th {\n",
       "        vertical-align: top;\n",
       "    }\n",
       "\n",
       "    .dataframe thead th {\n",
       "        text-align: right;\n",
       "    }\n",
       "</style>\n",
       "<table border=\"1\" class=\"dataframe\">\n",
       "  <thead>\n",
       "    <tr style=\"text-align: right;\">\n",
       "      <th></th>\n",
       "      <th>0</th>\n",
       "    </tr>\n",
       "  </thead>\n",
       "  <tbody>\n",
       "    <tr>\n",
       "      <th>0</th>\n",
       "      <td>-1.2500e+01</td>\n",
       "    </tr>\n",
       "    <tr>\n",
       "      <th>1</th>\n",
       "      <td>-7.6540e-16</td>\n",
       "    </tr>\n",
       "    <tr>\n",
       "      <th>2</th>\n",
       "      <td>-1.0417e+01</td>\n",
       "    </tr>\n",
       "    <tr>\n",
       "      <th>3</th>\n",
       "      <td>-1.2500e+01</td>\n",
       "    </tr>\n",
       "    <tr>\n",
       "      <th>4</th>\n",
       "      <td>-5.0000e+00</td>\n",
       "    </tr>\n",
       "    <tr>\n",
       "      <th>5</th>\n",
       "      <td>4.1667e+00</td>\n",
       "    </tr>\n",
       "    <tr>\n",
       "      <th>6</th>\n",
       "      <td>0.0000e+00</td>\n",
       "    </tr>\n",
       "    <tr>\n",
       "      <th>7</th>\n",
       "      <td>-5.0000e+00</td>\n",
       "    </tr>\n",
       "    <tr>\n",
       "      <th>8</th>\n",
       "      <td>6.2500e+00</td>\n",
       "    </tr>\n",
       "    <tr>\n",
       "      <th>9</th>\n",
       "      <td>0.0000e+00</td>\n",
       "    </tr>\n",
       "    <tr>\n",
       "      <th>10</th>\n",
       "      <td>0.0000e+00</td>\n",
       "    </tr>\n",
       "    <tr>\n",
       "      <th>11</th>\n",
       "      <td>0.0000e+00</td>\n",
       "    </tr>\n",
       "  </tbody>\n",
       "</table>\n",
       "</div>"
      ],
      "text/plain": [
       "             0\n",
       "0  -1.2500e+01\n",
       "1  -7.6540e-16\n",
       "2  -1.0417e+01\n",
       "3  -1.2500e+01\n",
       "4  -5.0000e+00\n",
       "5   4.1667e+00\n",
       "6   0.0000e+00\n",
       "7  -5.0000e+00\n",
       "8   6.2500e+00\n",
       "9   0.0000e+00\n",
       "10  0.0000e+00\n",
       "11  0.0000e+00"
      ]
     },
     "execution_count": 15,
     "metadata": {},
     "output_type": "execute_result"
    }
   ],
   "source": [
    "loadVector = loadVector(F1,F2,F3)\n",
    "loadVector"
   ]
  },
  {
   "cell_type": "code",
   "execution_count": 16,
   "metadata": {},
   "outputs": [
    {
     "data": {
      "text/html": [
       "<div>\n",
       "<style scoped>\n",
       "    .dataframe tbody tr th:only-of-type {\n",
       "        vertical-align: middle;\n",
       "    }\n",
       "\n",
       "    .dataframe tbody tr th {\n",
       "        vertical-align: top;\n",
       "    }\n",
       "\n",
       "    .dataframe thead th {\n",
       "        text-align: right;\n",
       "    }\n",
       "</style>\n",
       "<table border=\"1\" class=\"dataframe\">\n",
       "  <thead>\n",
       "    <tr style=\"text-align: right;\">\n",
       "      <th></th>\n",
       "      <th>0</th>\n",
       "    </tr>\n",
       "  </thead>\n",
       "  <tbody>\n",
       "    <tr>\n",
       "      <th>3</th>\n",
       "      <td>-12.5000</td>\n",
       "    </tr>\n",
       "    <tr>\n",
       "      <th>4</th>\n",
       "      <td>-5.0000</td>\n",
       "    </tr>\n",
       "    <tr>\n",
       "      <th>5</th>\n",
       "      <td>4.1667</td>\n",
       "    </tr>\n",
       "    <tr>\n",
       "      <th>6</th>\n",
       "      <td>0.0000</td>\n",
       "    </tr>\n",
       "    <tr>\n",
       "      <th>7</th>\n",
       "      <td>-5.0000</td>\n",
       "    </tr>\n",
       "    <tr>\n",
       "      <th>8</th>\n",
       "      <td>6.2500</td>\n",
       "    </tr>\n",
       "    <tr>\n",
       "      <th>11</th>\n",
       "      <td>0.0000</td>\n",
       "    </tr>\n",
       "  </tbody>\n",
       "</table>\n",
       "</div>"
      ],
      "text/plain": [
       "          0\n",
       "3  -12.5000\n",
       "4   -5.0000\n",
       "5    4.1667\n",
       "6    0.0000\n",
       "7   -5.0000\n",
       "8    6.2500\n",
       "11   0.0000"
      ]
     },
     "execution_count": 16,
     "metadata": {},
     "output_type": "execute_result"
    }
   ],
   "source": [
    "bc_vector = boundaryConditionsVector([p1,p2,p3,p4])\n",
    "bc_0 = boundaryConditionsFilter(bc_vector, 0)\n",
    "loadVector.drop(bc_0, inplace=True)\n",
    "loadVector"
   ]
  },
  {
   "cell_type": "markdown",
   "metadata": {},
   "source": [
    "**Matica tuhosti**"
   ]
  },
  {
   "cell_type": "code",
   "execution_count": 17,
   "metadata": {},
   "outputs": [
    {
     "data": {
      "text/html": [
       "<div>\n",
       "<style scoped>\n",
       "    .dataframe tbody tr th:only-of-type {\n",
       "        vertical-align: middle;\n",
       "    }\n",
       "\n",
       "    .dataframe tbody tr th {\n",
       "        vertical-align: top;\n",
       "    }\n",
       "\n",
       "    .dataframe thead th {\n",
       "        text-align: right;\n",
       "    }\n",
       "</style>\n",
       "<table border=\"1\" class=\"dataframe\">\n",
       "  <thead>\n",
       "    <tr style=\"text-align: right;\">\n",
       "      <th></th>\n",
       "      <th>u[2]</th>\n",
       "      <th>v[2]</th>\n",
       "      <th>fi[2]</th>\n",
       "      <th>u[3]</th>\n",
       "      <th>v[3]</th>\n",
       "      <th>fi[3]</th>\n",
       "      <th>fi[4]</th>\n",
       "    </tr>\n",
       "  </thead>\n",
       "  <tbody>\n",
       "    <tr>\n",
       "      <th>u[2]</th>\n",
       "      <td>3.9743e+05</td>\n",
       "      <td>-2.4161e-11</td>\n",
       "      <td>-3564.0</td>\n",
       "      <td>-3.9600e+05</td>\n",
       "      <td>0.0000e+00</td>\n",
       "      <td>0.0</td>\n",
       "      <td>0.0000e+00</td>\n",
       "    </tr>\n",
       "    <tr>\n",
       "      <th>v[2]</th>\n",
       "      <td>-2.4161e-11</td>\n",
       "      <td>3.9743e+05</td>\n",
       "      <td>3564.0</td>\n",
       "      <td>0.0000e+00</td>\n",
       "      <td>-1.4256e+03</td>\n",
       "      <td>3564.0</td>\n",
       "      <td>0.0000e+00</td>\n",
       "    </tr>\n",
       "    <tr>\n",
       "      <th>fi[2]</th>\n",
       "      <td>-3.5640e+03</td>\n",
       "      <td>3.5640e+03</td>\n",
       "      <td>23760.0</td>\n",
       "      <td>0.0000e+00</td>\n",
       "      <td>-3.5640e+03</td>\n",
       "      <td>5940.0</td>\n",
       "      <td>0.0000e+00</td>\n",
       "    </tr>\n",
       "    <tr>\n",
       "      <th>u[3]</th>\n",
       "      <td>-3.9600e+05</td>\n",
       "      <td>0.0000e+00</td>\n",
       "      <td>0.0</td>\n",
       "      <td>4.0260e+05</td>\n",
       "      <td>4.0009e-11</td>\n",
       "      <td>-9900.0</td>\n",
       "      <td>-9.9000e+03</td>\n",
       "    </tr>\n",
       "    <tr>\n",
       "      <th>v[3]</th>\n",
       "      <td>0.0000e+00</td>\n",
       "      <td>-1.4256e+03</td>\n",
       "      <td>-3564.0</td>\n",
       "      <td>4.0009e-11</td>\n",
       "      <td>6.6143e+05</td>\n",
       "      <td>-3564.0</td>\n",
       "      <td>-1.2063e-10</td>\n",
       "    </tr>\n",
       "    <tr>\n",
       "      <th>fi[3]</th>\n",
       "      <td>0.0000e+00</td>\n",
       "      <td>3.5640e+03</td>\n",
       "      <td>5940.0</td>\n",
       "      <td>-9.9000e+03</td>\n",
       "      <td>-3.5640e+03</td>\n",
       "      <td>31680.0</td>\n",
       "      <td>9.9000e+03</td>\n",
       "    </tr>\n",
       "    <tr>\n",
       "      <th>fi[4]</th>\n",
       "      <td>0.0000e+00</td>\n",
       "      <td>0.0000e+00</td>\n",
       "      <td>0.0</td>\n",
       "      <td>-9.9000e+03</td>\n",
       "      <td>-1.2063e-10</td>\n",
       "      <td>9900.0</td>\n",
       "      <td>1.9800e+04</td>\n",
       "    </tr>\n",
       "  </tbody>\n",
       "</table>\n",
       "</div>"
      ],
      "text/plain": [
       "             u[2]        v[2]    fi[2]        u[3]        v[3]    fi[3]  \\\n",
       "u[2]   3.9743e+05 -2.4161e-11  -3564.0 -3.9600e+05  0.0000e+00      0.0   \n",
       "v[2]  -2.4161e-11  3.9743e+05   3564.0  0.0000e+00 -1.4256e+03   3564.0   \n",
       "fi[2] -3.5640e+03  3.5640e+03  23760.0  0.0000e+00 -3.5640e+03   5940.0   \n",
       "u[3]  -3.9600e+05  0.0000e+00      0.0  4.0260e+05  4.0009e-11  -9900.0   \n",
       "v[3]   0.0000e+00 -1.4256e+03  -3564.0  4.0009e-11  6.6143e+05  -3564.0   \n",
       "fi[3]  0.0000e+00  3.5640e+03   5940.0 -9.9000e+03 -3.5640e+03  31680.0   \n",
       "fi[4]  0.0000e+00  0.0000e+00      0.0 -9.9000e+03 -1.2063e-10   9900.0   \n",
       "\n",
       "            fi[4]  \n",
       "u[2]   0.0000e+00  \n",
       "v[2]   0.0000e+00  \n",
       "fi[2]  0.0000e+00  \n",
       "u[3]  -9.9000e+03  \n",
       "v[3]  -1.2063e-10  \n",
       "fi[3]  9.9000e+03  \n",
       "fi[4]  1.9800e+04  "
      ]
     },
     "execution_count": 17,
     "metadata": {},
     "output_type": "execute_result"
    }
   ],
   "source": [
    "bc_1 = boundaryConditionsFilter(bc_vector, 1)\n",
    "copyModelMatrix = modelMatrix.copy()\n",
    "copyModelMatrix.drop(bc_0, inplace=True)\n",
    "filteredModelMatrix = copyModelMatrix[bc_1]\n",
    "parseMatrixIndexes(filteredModelMatrix.copy(), [\"u[2]\", \"v[2]\", \"fi[2]\",\"u[3]\", \"v[3]\", \"fi[3]\",\"fi[4]\"])"
   ]
  },
  {
   "cell_type": "code",
   "execution_count": 18,
   "metadata": {},
   "outputs": [],
   "source": [
    "def nodeDisplacements(modelMatrix):\n",
    "    inv = pd.DataFrame(np.linalg.inv(modelMatrix.values), modelMatrix.columns, modelMatrix.index)\n",
    "    return inv.dot(loadVector)*-1"
   ]
  },
  {
   "cell_type": "markdown",
   "metadata": {},
   "source": [
    "**Deformácie**"
   ]
  },
  {
   "cell_type": "code",
   "execution_count": 19,
   "metadata": {},
   "outputs": [
    {
     "data": {
      "text/html": [
       "<div>\n",
       "<style scoped>\n",
       "    .dataframe tbody tr th:only-of-type {\n",
       "        vertical-align: middle;\n",
       "    }\n",
       "\n",
       "    .dataframe tbody tr th {\n",
       "        vertical-align: top;\n",
       "    }\n",
       "\n",
       "    .dataframe thead th {\n",
       "        text-align: right;\n",
       "    }\n",
       "</style>\n",
       "<table border=\"1\" class=\"dataframe\">\n",
       "  <thead>\n",
       "    <tr style=\"text-align: right;\">\n",
       "      <th></th>\n",
       "      <th>0</th>\n",
       "    </tr>\n",
       "  </thead>\n",
       "  <tbody>\n",
       "    <tr>\n",
       "      <th>u[2]</th>\n",
       "      <td>5.8585e-03</td>\n",
       "    </tr>\n",
       "    <tr>\n",
       "      <th>v[2]</th>\n",
       "      <td>1.3700e-06</td>\n",
       "    </tr>\n",
       "    <tr>\n",
       "      <th>fi[2]</th>\n",
       "      <td>5.2184e-04</td>\n",
       "    </tr>\n",
       "    <tr>\n",
       "      <th>u[3]</th>\n",
       "      <td>5.8433e-03</td>\n",
       "    </tr>\n",
       "    <tr>\n",
       "      <th>v[3]</th>\n",
       "      <td>1.4330e-05</td>\n",
       "    </tr>\n",
       "    <tr>\n",
       "      <th>fi[3]</th>\n",
       "      <td>7.3404e-04</td>\n",
       "    </tr>\n",
       "    <tr>\n",
       "      <th>fi[4]</th>\n",
       "      <td>2.5546e-03</td>\n",
       "    </tr>\n",
       "  </tbody>\n",
       "</table>\n",
       "</div>"
      ],
      "text/plain": [
       "                0\n",
       "u[2]   5.8585e-03\n",
       "v[2]   1.3700e-06\n",
       "fi[2]  5.2184e-04\n",
       "u[3]   5.8433e-03\n",
       "v[3]   1.4330e-05\n",
       "fi[3]  7.3404e-04\n",
       "fi[4]  2.5546e-03"
      ]
     },
     "execution_count": 19,
     "metadata": {},
     "output_type": "execute_result"
    }
   ],
   "source": [
    "displacements = nodeDisplacements(filteredModelMatrix)\n",
    "parseMatrixRows(displacements.copy(), [\"u[2]\", \"v[2]\", \"fi[2]\",\"u[3]\", \"v[3]\", \"fi[3]\",\"fi[4]\"])"
   ]
  },
  {
   "cell_type": "code",
   "execution_count": 20,
   "metadata": {},
   "outputs": [],
   "source": [
    "def modelDisplacements(displacements):\n",
    "     return pd.DataFrame(np.zeros((12, 1))).add(displacements, fill_value=0)"
   ]
  },
  {
   "cell_type": "code",
   "execution_count": 21,
   "metadata": {},
   "outputs": [
    {
     "data": {
      "text/html": [
       "<div>\n",
       "<style scoped>\n",
       "    .dataframe tbody tr th:only-of-type {\n",
       "        vertical-align: middle;\n",
       "    }\n",
       "\n",
       "    .dataframe tbody tr th {\n",
       "        vertical-align: top;\n",
       "    }\n",
       "\n",
       "    .dataframe thead th {\n",
       "        text-align: right;\n",
       "    }\n",
       "</style>\n",
       "<table border=\"1\" class=\"dataframe\">\n",
       "  <thead>\n",
       "    <tr style=\"text-align: right;\">\n",
       "      <th></th>\n",
       "      <th>0</th>\n",
       "    </tr>\n",
       "  </thead>\n",
       "  <tbody>\n",
       "    <tr>\n",
       "      <th>u[1]</th>\n",
       "      <td>0.0000e+00</td>\n",
       "    </tr>\n",
       "    <tr>\n",
       "      <th>v[1]</th>\n",
       "      <td>0.0000e+00</td>\n",
       "    </tr>\n",
       "    <tr>\n",
       "      <th>fi[1]</th>\n",
       "      <td>0.0000e+00</td>\n",
       "    </tr>\n",
       "    <tr>\n",
       "      <th>u[2]</th>\n",
       "      <td>5.8585e-03</td>\n",
       "    </tr>\n",
       "    <tr>\n",
       "      <th>v[2]</th>\n",
       "      <td>1.3700e-06</td>\n",
       "    </tr>\n",
       "    <tr>\n",
       "      <th>fi[2]</th>\n",
       "      <td>5.2184e-04</td>\n",
       "    </tr>\n",
       "    <tr>\n",
       "      <th>u[3]</th>\n",
       "      <td>5.8433e-03</td>\n",
       "    </tr>\n",
       "    <tr>\n",
       "      <th>v[3]</th>\n",
       "      <td>1.4330e-05</td>\n",
       "    </tr>\n",
       "    <tr>\n",
       "      <th>fi[3]</th>\n",
       "      <td>7.3404e-04</td>\n",
       "    </tr>\n",
       "    <tr>\n",
       "      <th>u[4]</th>\n",
       "      <td>0.0000e+00</td>\n",
       "    </tr>\n",
       "    <tr>\n",
       "      <th>v[4]</th>\n",
       "      <td>0.0000e+00</td>\n",
       "    </tr>\n",
       "    <tr>\n",
       "      <th>fi[4]</th>\n",
       "      <td>2.5546e-03</td>\n",
       "    </tr>\n",
       "  </tbody>\n",
       "</table>\n",
       "</div>"
      ],
      "text/plain": [
       "                0\n",
       "u[1]   0.0000e+00\n",
       "v[1]   0.0000e+00\n",
       "fi[1]  0.0000e+00\n",
       "u[2]   5.8585e-03\n",
       "v[2]   1.3700e-06\n",
       "fi[2]  5.2184e-04\n",
       "u[3]   5.8433e-03\n",
       "v[3]   1.4330e-05\n",
       "fi[3]  7.3404e-04\n",
       "u[4]   0.0000e+00\n",
       "v[4]   0.0000e+00\n",
       "fi[4]  2.5546e-03"
      ]
     },
     "execution_count": 21,
     "metadata": {},
     "output_type": "execute_result"
    }
   ],
   "source": [
    "modelDisplacements = modelDisplacements(displacements)\n",
    "rows = [\"u[1]\", \"v[1]\", \"fi[1]\",\"u[2]\", \"v[2]\", \"fi[2]\",\"u[3]\", \"v[3]\", \"fi[3]\",\"u[4]\", \"v[4]\", \"fi[4]\"]\n",
    "parseMatrixRows(modelDisplacements.copy(), rows)"
   ]
  },
  {
   "cell_type": "code",
   "execution_count": 22,
   "metadata": {},
   "outputs": [],
   "source": [
    "# calculate internal forces by formula --- F = F' + k * delta\n",
    "def barInternalForces(modelDisplacements, barSolution):\n",
    "\n",
    "    bar = barSolution[\"bar\"]\n",
    "    barProps = barSolution[\"barProps\"]\n",
    "\n",
    "    # get bar displacements (delta)\n",
    "    delta_1 = modelDisplacements.loc[bar.codeNumbers[0]:bar.codeNumbers[2]]\n",
    "    delta_2 = modelDisplacements.loc[bar.codeNumbers[3]:bar.codeNumbers[5]]\n",
    "    deltaBar = pd.concat([delta_1, delta_2])\n",
    "\n",
    "    \n",
    "    # get bar matrices\n",
    "    A0 = barSolution[\"A0\"]\n",
    "    k = barSolution[\"k\"]\n",
    "\n",
    "    # u = k * delta\n",
    "    u = k.dot(deltaBar)\n",
    "\n",
    "    # F' --- node A\n",
    "    A0_A_parsed = parseMatrixIndexes(A0, bar.codeNumbers[0:3])\n",
    "    FA_g = barSolution[\"FA_g\"]\n",
    "    F_A_g_parsed = parseMatrixRows(FA_g, bar.codeNumbers[0:3])\n",
    "\n",
    "    # F' --- node B\n",
    "    A0_B_parsed = parseMatrixIndexes(A0, bar.codeNumbers[3:6])\n",
    "    FB_g = barSolution[\"FB_g\"]\n",
    "    F_B_g_parsed = parseMatrixRows(FB_g, bar.codeNumbers[3:6])\n",
    "\n",
    "\n",
    "    # F' + u --- node A\n",
    "    local = u.loc[bar.codeNumbers[0]:bar.codeNumbers[2]]+F_A_g_parsed\n",
    "    F1 = A0_A_parsed.T.dot(local)\n",
    "    forces_AB = parseMatrixRows(F1, [\"N\",\"V\",\"M\"])\n",
    "\n",
    "    # F' + u --- node B\n",
    "    local = u.loc[bar.codeNumbers[3]:bar.codeNumbers[5]]+F_B_g_parsed\n",
    "    F2 = A0_B_parsed.dot(local)\n",
    "    forces_BA = parseMatrixRows(F2, [\"N\",\"V\",\"M\"])\n",
    "\n",
    "    forces = pd.concat([forces_AB, forces_BA], axis=1)\n",
    "    print(parseMatrixColumns(forces, [bar.point_a.name, bar.point_b.name]))\n",
    "    return forces\n",
    "\n",
    "    \n"
   ]
  },
  {
   "cell_type": "markdown",
   "metadata": {},
   "source": [
    "## Vnútorné sily"
   ]
  },
  {
   "cell_type": "code",
   "execution_count": 23,
   "metadata": {},
   "outputs": [
    {
     "name": "stdout",
     "output_type": "stream",
     "text": [
      "     bod 1   bod 2\n",
      "N  -0.5425 -0.5425\n",
      "V  18.9920 -6.0080\n",
      "M -28.1966 -4.2635\n"
     ]
    }
   ],
   "source": [
    "forces12 = barInternalForces(modelDisplacements, bar12_Solution)"
   ]
  },
  {
   "cell_type": "code",
   "execution_count": 24,
   "metadata": {},
   "outputs": [
    {
     "name": "stdout",
     "output_type": "stream",
     "text": [
      "    bod 2    bod 3\n",
      "N  6.0080  -6.0080\n",
      "V -0.5425  -9.4575\n",
      "M  4.2635  18.0239\n"
     ]
    }
   ],
   "source": [
    "forces23 = barInternalForces(modelDisplacements, bar23_Solution)"
   ]
  },
  {
   "cell_type": "code",
   "execution_count": 25,
   "metadata": {},
   "outputs": [
    {
     "name": "stdout",
     "output_type": "stream",
     "text": [
      "     bod 3       bod 4\n",
      "N  -9.4575 -9.4575e+00\n",
      "V   6.0080  6.0080e+00\n",
      "M -18.0239 -3.0314e-15\n"
     ]
    }
   ],
   "source": [
    "forces34 = barInternalForces(modelDisplacements, bar34_Solution)"
   ]
  },
  {
   "cell_type": "code",
   "execution_count": 26,
   "metadata": {},
   "outputs": [
    {
     "data": {
      "text/html": [
       "<div>\n",
       "<style scoped>\n",
       "    .dataframe tbody tr th:only-of-type {\n",
       "        vertical-align: middle;\n",
       "    }\n",
       "\n",
       "    .dataframe tbody tr th {\n",
       "        vertical-align: top;\n",
       "    }\n",
       "\n",
       "    .dataframe thead th {\n",
       "        text-align: right;\n",
       "    }\n",
       "</style>\n",
       "<table border=\"1\" class=\"dataframe\">\n",
       "  <thead>\n",
       "    <tr style=\"text-align: right;\">\n",
       "      <th></th>\n",
       "      <th>bod 1</th>\n",
       "      <th>bod 2</th>\n",
       "      <th>bod 2</th>\n",
       "      <th>bod 3</th>\n",
       "      <th>bod 3</th>\n",
       "      <th>bod 4</th>\n",
       "    </tr>\n",
       "  </thead>\n",
       "  <tbody>\n",
       "    <tr>\n",
       "      <th>N</th>\n",
       "      <td>-0.5425</td>\n",
       "      <td>-0.5425</td>\n",
       "      <td>6.0080</td>\n",
       "      <td>-6.0080</td>\n",
       "      <td>-9.4575</td>\n",
       "      <td>-9.4575e+00</td>\n",
       "    </tr>\n",
       "    <tr>\n",
       "      <th>V</th>\n",
       "      <td>18.9920</td>\n",
       "      <td>-6.0080</td>\n",
       "      <td>-0.5425</td>\n",
       "      <td>-9.4575</td>\n",
       "      <td>6.0080</td>\n",
       "      <td>6.0080e+00</td>\n",
       "    </tr>\n",
       "    <tr>\n",
       "      <th>M</th>\n",
       "      <td>-28.1966</td>\n",
       "      <td>-4.2635</td>\n",
       "      <td>4.2635</td>\n",
       "      <td>18.0239</td>\n",
       "      <td>-18.0239</td>\n",
       "      <td>-3.0314e-15</td>\n",
       "    </tr>\n",
       "  </tbody>\n",
       "</table>\n",
       "</div>"
      ],
      "text/plain": [
       "     bod 1   bod 2   bod 2    bod 3    bod 3       bod 4\n",
       "N  -0.5425 -0.5425  6.0080  -6.0080  -9.4575 -9.4575e+00\n",
       "V  18.9920 -6.0080 -0.5425  -9.4575   6.0080  6.0080e+00\n",
       "M -28.1966 -4.2635  4.2635  18.0239 -18.0239 -3.0314e-15"
      ]
     },
     "execution_count": 26,
     "metadata": {},
     "output_type": "execute_result"
    }
   ],
   "source": [
    "forces_final = pd.concat([forces12, forces23, forces34], axis=1)\n",
    "forces_final"
   ]
  },
  {
   "cell_type": "markdown",
   "metadata": {},
   "source": [
    "<img src=\"./assets/N.jpg\" alt=\"drawing\" width=\"500\"/>\n",
    "<img src=\"./assets/V.jpg\" alt=\"drawing\" width=\"500\"/>\n",
    "<img src=\"./assets/M.jpg\" alt=\"drawing\" width=\"500\"/>"
   ]
  }
 ],
 "metadata": {
  "kernelspec": {
   "display_name": "Python 3.8.8 ('base')",
   "language": "python",
   "name": "python3"
  },
  "language_info": {
   "codemirror_mode": {
    "name": "ipython",
    "version": 3
   },
   "file_extension": ".py",
   "mimetype": "text/x-python",
   "name": "python",
   "nbconvert_exporter": "python",
   "pygments_lexer": "ipython3",
   "version": "3.8.8"
  },
  "orig_nbformat": 4,
  "vscode": {
   "interpreter": {
    "hash": "75918162d800b4b0afe9003a3a21e108f30b56a8709e9e92681416565459cfc0"
   }
  }
 },
 "nbformat": 4,
 "nbformat_minor": 2
}
